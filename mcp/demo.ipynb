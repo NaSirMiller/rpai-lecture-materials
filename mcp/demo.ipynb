{
 "cells": [
  {
   "cell_type": "markdown",
   "id": "19526d07",
   "metadata": {},
   "source": [
    "## Imports"
   ]
  },
  {
   "cell_type": "code",
   "execution_count": 1,
   "id": "47a1c692",
   "metadata": {},
   "outputs": [],
   "source": [
    "from client import MCPClient\n",
    "from wiki_agent import WikipediaAgent"
   ]
  },
  {
   "cell_type": "markdown",
   "id": "9bfbf611",
   "metadata": {},
   "source": [
    "## Environment Initialization"
   ]
  },
  {
   "cell_type": "code",
   "execution_count": 2,
   "id": "cabf6c42",
   "metadata": {},
   "outputs": [
    {
     "name": "stdout",
     "output_type": "stream",
     "text": [
      "Connecting to server located at server.py...\n",
      "Connection to server complete.\n",
      "Getting summary format resource...\n",
      "Summary prompt resource read.\n",
      "Getting system prompt...\n",
      "Retrieved system prompt.\n",
      "Client-server setup complete.\n"
     ]
    }
   ],
   "source": [
    "questions: list[str] = [\n",
    "  \"What is the status of the Sudanese Civil War in August 2025?\",\n",
    "  \"Save your sudan summary to ./results/sudan_summary.txt\",\n",
    "  \"Extract the top 5 keywords from the contents of ./results/sudan_summary.txt\",\n",
    "  \"Read the contents of ./random_txt.txt and summarize it.\"\n",
    "]\n",
    "client = MCPClient()\n",
    "agent = WikipediaAgent(\n",
    "  model_name=\"llama3.1\",\n",
    "  client=client,\n",
    ")\n",
    "\n",
    "await agent.setup(mcp_server_path=\"server.py\") # Connect client to server and receive available primitives"
   ]
  },
  {
   "cell_type": "code",
   "execution_count": 3,
   "id": "5e3ae025",
   "metadata": {},
   "outputs": [
    {
     "name": "stdout",
     "output_type": "stream",
     "text": [
      "Iteration 1 out of 10...\n",
      "Querying LLM...\n",
      "Retreived LLM response.\n",
      "Executing search_wikipedia tool...\n",
      "\n",
      "\n",
      "\n",
      "Iteration 2 out of 10...\n",
      "Most recent step: intent='inform' status='in_progress' function={'name': 'search_wikipedia', 'parameters': {'query': 'sudanese civil war august 2025'}} tool_result={'success': True, 'result': 'Error executing tool search_wikipedia: HTTPConnectionPool(host=\\'en.wikipedia.org\\', port=80): Max retries exceeded with url: /w/api.php?list=search&srprop=&srlimit=3&limit=3&srsearch=sudanese+civil+war+august+2025&format=json&action=query (Caused by NameResolutionError(\"<urllib3.connection.HTTPConnection object at 0x7596a6cd9fd0>: Failed to resolve \\'en.wikipedia.org\\' ([Errno -3] Temporary failure in name resolution)\"))'}.\n",
      "Querying LLM...\n",
      "Retreived LLM response.\n",
      "Agent did not produce valid JSON. Retrying...\n",
      "Iteration 3 out of 10...\n",
      "Most recent step: intent='inform' status='in_progress' function={'name': 'search_wikipedia', 'parameters': {'query': 'sudanese civil war august 2025'}} tool_result={'success': True, 'result': 'Error executing tool search_wikipedia: HTTPConnectionPool(host=\\'en.wikipedia.org\\', port=80): Max retries exceeded with url: /w/api.php?list=search&srprop=&srlimit=3&limit=3&srsearch=sudanese+civil+war+august+2025&format=json&action=query (Caused by NameResolutionError(\"<urllib3.connection.HTTPConnection object at 0x7596a6cd9fd0>: Failed to resolve \\'en.wikipedia.org\\' ([Errno -3] Temporary failure in name resolution)\"))'}.\n",
      "Querying LLM...\n",
      "Retreived LLM response.\n",
      "Executing search_wikipedia tool...\n",
      "\n",
      "\n",
      "\n",
      "Iteration 4 out of 10...\n",
      "Most recent step: intent='inquire about current situation' status='in_progress' function={'name': 'search_wikipedia', 'parameters': {'query': 'sudanese civil war august 2025'}} tool_result={'success': True, 'result': 'Error executing tool search_wikipedia: HTTPConnectionPool(host=\\'en.wikipedia.org\\', port=80): Max retries exceeded with url: /w/api.php?list=search&srprop=&srlimit=3&limit=3&srsearch=sudanese+civil+war+august+2025&format=json&action=query (Caused by NameResolutionError(\"<urllib3.connection.HTTPConnection object at 0x7596a6cda810>: Failed to resolve \\'en.wikipedia.org\\' ([Errno -3] Temporary failure in name resolution)\"))'}.\n",
      "Querying LLM...\n",
      "Retreived LLM response.\n",
      "Agent did not produce valid JSON. Retrying...\n",
      "Iteration 5 out of 10...\n",
      "Most recent step: intent='inquire about current situation' status='in_progress' function={'name': 'search_wikipedia', 'parameters': {'query': 'sudanese civil war august 2025'}} tool_result={'success': True, 'result': 'Error executing tool search_wikipedia: HTTPConnectionPool(host=\\'en.wikipedia.org\\', port=80): Max retries exceeded with url: /w/api.php?list=search&srprop=&srlimit=3&limit=3&srsearch=sudanese+civil+war+august+2025&format=json&action=query (Caused by NameResolutionError(\"<urllib3.connection.HTTPConnection object at 0x7596a6cda810>: Failed to resolve \\'en.wikipedia.org\\' ([Errno -3] Temporary failure in name resolution)\"))'}.\n",
      "Querying LLM...\n",
      "Retreived LLM response.\n",
      "Executing search_wikipedia tool...\n",
      "\n",
      "\n",
      "\n",
      "Iteration 6 out of 10...\n",
      "Most recent step: intent='information' status='in_progress' function={'name': 'search_wikipedia', 'parameters': {'query': 'sudanese civil war august 2025'}} tool_result={'success': True, 'result': 'Error executing tool search_wikipedia: HTTPConnectionPool(host=\\'en.wikipedia.org\\', port=80): Max retries exceeded with url: /w/api.php?list=search&srprop=&srlimit=3&limit=3&srsearch=sudanese+civil+war+august+2025&format=json&action=query (Caused by NameResolutionError(\"<urllib3.connection.HTTPConnection object at 0x7596a6cdb3b0>: Failed to resolve \\'en.wikipedia.org\\' ([Errno -3] Temporary failure in name resolution)\"))'}.\n",
      "Querying LLM...\n",
      "Retreived LLM response.\n",
      "Agent did not produce valid JSON. Retrying...\n",
      "Iteration 7 out of 10...\n",
      "Most recent step: intent='information' status='in_progress' function={'name': 'search_wikipedia', 'parameters': {'query': 'sudanese civil war august 2025'}} tool_result={'success': True, 'result': 'Error executing tool search_wikipedia: HTTPConnectionPool(host=\\'en.wikipedia.org\\', port=80): Max retries exceeded with url: /w/api.php?list=search&srprop=&srlimit=3&limit=3&srsearch=sudanese+civil+war+august+2025&format=json&action=query (Caused by NameResolutionError(\"<urllib3.connection.HTTPConnection object at 0x7596a6cdb3b0>: Failed to resolve \\'en.wikipedia.org\\' ([Errno -3] Temporary failure in name resolution)\"))'}.\n",
      "Querying LLM...\n",
      "Retreived LLM response.\n",
      "Executing search_wikipedia tool...\n",
      "\n",
      "\n",
      "\n",
      "Iteration 8 out of 10...\n",
      "Most recent step: intent='information seeking' status='in_progress' function={'name': 'search_wikipedia', 'parameters': {'query': 'sudanese civil war august 2025'}} tool_result={'success': True, 'result': 'Error executing tool search_wikipedia: HTTPConnectionPool(host=\\'en.wikipedia.org\\', port=80): Max retries exceeded with url: /w/api.php?list=search&srprop=&srlimit=3&limit=3&srsearch=sudanese+civil+war+august+2025&format=json&action=query (Caused by NameResolutionError(\"<urllib3.connection.HTTPConnection object at 0x7596a6cda210>: Failed to resolve \\'en.wikipedia.org\\' ([Errno -3] Temporary failure in name resolution)\"))'}.\n",
      "Querying LLM...\n",
      "Retreived LLM response.\n",
      "Agent did not produce valid JSON. Retrying...\n",
      "Iteration 9 out of 10...\n",
      "Most recent step: intent='information seeking' status='in_progress' function={'name': 'search_wikipedia', 'parameters': {'query': 'sudanese civil war august 2025'}} tool_result={'success': True, 'result': 'Error executing tool search_wikipedia: HTTPConnectionPool(host=\\'en.wikipedia.org\\', port=80): Max retries exceeded with url: /w/api.php?list=search&srprop=&srlimit=3&limit=3&srsearch=sudanese+civil+war+august+2025&format=json&action=query (Caused by NameResolutionError(\"<urllib3.connection.HTTPConnection object at 0x7596a6cda210>: Failed to resolve \\'en.wikipedia.org\\' ([Errno -3] Temporary failure in name resolution)\"))'}.\n",
      "Querying LLM...\n",
      "Retreived LLM response.\n",
      "Executing search_wikipedia tool...\n",
      "\n",
      "\n",
      "\n",
      "Iteration 10 out of 10...\n",
      "Most recent step: intent='answer_question' status='in_progress' function={'name': 'search_wikipedia', 'parameters': {'query': 'sudanese civil war august 2025'}} tool_result={'success': True, 'result': \"Page: Timeline of the Sudanese civil war (2025)\\nSummary: The following is a timeline of the Sudanese civil war (2023–present) in 2025.\\nThis timeline is a dynamic and fluid list, and as such may never satisfy criteria of completeness. Moreover, some events may only be fully understood and/or discovered in retrospect.\\n\\n\\n\\nPage: Sudanese civil war (2023–present)\\nSummary: A civil war began on 15 April 2023 between two rival factions of the military government of Sudan. The conflict involves the Sudanese Armed Forces (SAF), led by General Abdel Fattah al-Burhan, and the paramilitary Rapid Support Forces (RSF), commanded by Mohamed Hamdan Dagalo (commonly known as Hemedti), who also leads the broader Janjaweed coalition.  Several smaller armed groups have also taken part. Fighting has been concentrated in the capital, Khartoum, where the conflict began with large-scale battles, and in the Darfur region. Many civilians in Darfur have been reported dead as part of the Masalit massacres, which have been described as ethnic cleansing or genocide. Sudan has been described as facing the world's worst humanitarian crisis; nearly 25 million people are experiencing extreme hunger. On 7 January 2025, the United States said it had determined that the RSF and allied militias committed genocide.\\nSince gaining independence in 1956, Sudan has endured chronic instability marked by 20 coup attempts, prolonged military rule, two devastating civil wars, and the Darfur genocide. The war erupted amid tensions over the integration of the RSF into the army following the 2021 coup, starting with RSF attacks on government sites in Khartoum and other cities. The capital region was soon divided between the two factions, and al-Burhan relocated his government to Port Sudan. International efforts, including the May 2023 Jeddah Declaration, failed to stop the fighting, while various rebel groups entered the war: the SPLM–North (al-Hilu faction) attacked the SAF in the south; the Tamazuj movement joined the RSF; and the SAF gained support from factions of the Sudan Liberation Movement and the Justice and Equality Movement. By late 2023, the RSF controlled most of Darfur and advanced in Khartoum, Kordofan, and Gezira. The SAF regained momentum in early 2024, making gains in Omdurman and eventually retaking Khartoum, including the Presidential Palace and airport, by March 2025. Despite renewed negotiations, no lasting ceasefire has been reached, and the war continues with severe humanitarian consequences and regional implications.\\nFamine alone has killed an estimated 522,000 children, while the overall death toll of the war, including fatalities from violence, starvation, and disease, is even higher; thousands more remain missing or have been killed in targeted massacres, primarily attributed to the RSF and allied militias. At least 61,000 people have died in Khartoum State alone, of which 26,000 were a direct result of the violence. As of 5 February 2025, over 8.8 million were internally displaced and more than 3.5 million others had fled the country as refugees. In August 2024, the Integrated Food Security Phase Classification (IPC) Famine Review Committee (FRC) confirmed famine conditions in parts of North Darfur.\\nForeign involvement in Sudan's conflict has included arms shipments from China, Russia and Turkey. Regional support for the RSF comes from the UAE and Chad, while Egypt supports the SAF, amid regional tensions. The war has triggered a massive humanitarian crisis marked by extreme shortages of food, water, medicine, and aid access, widespread hospital closures, disease outbreaks, mass displacement, looting of humanitarian supplies, and the near-collapse of education and infrastructure, leaving over half the population in urgent need of assistance. There have been calls for more aid, legal protections for humanitarian workers, refugee support, and an end to arms supplies to the RSF, particularly by the UAE. Both the SAF and RSF have waged sophisticated di\"}.\n",
      "Querying LLM...\n",
      "Retreived LLM response.\n",
      "Agent did not produce valid JSON. Retrying...\n",
      "Generating summary of recent message history...\n"
     ]
    }
   ],
   "source": [
    "response = await agent.run(query=questions[0])"
   ]
  },
  {
   "cell_type": "code",
   "execution_count": 4,
   "id": "29e5f70c",
   "metadata": {},
   "outputs": [
    {
     "data": {
      "text/plain": [
       "'The Sudanese civil war began on April 15, 2023, between two rival factions of the military government: the Sudanese Armed Forces (SAF) led by General Abdel Fattah al-Burhan and the Rapid Support Forces (RSF) commanded by Mohamed Hamdan Dagalo. The conflict has resulted in significant humanitarian consequences, including famine, displacement, and loss of life. As of 2025, over 8.8 million people are internally displaced, and more than 3.5 million have fled as refugees.'"
      ]
     },
     "execution_count": 4,
     "metadata": {},
     "output_type": "execute_result"
    }
   ],
   "source": [
    "response"
   ]
  },
  {
   "cell_type": "code",
   "execution_count": 7,
   "id": "f977dc30",
   "metadata": {},
   "outputs": [
    {
     "name": "stdout",
     "output_type": "stream",
     "text": [
      "intent='inform' status='in_progress' function={'name': 'search_wikipedia', 'parameters': {'query': 'sudanese civil war august 2025'}} tool_result={'success': True, 'result': 'Error executing tool search_wikipedia: HTTPConnectionPool(host=\\'en.wikipedia.org\\', port=80): Max retries exceeded with url: /w/api.php?list=search&srprop=&srlimit=3&limit=3&srsearch=sudanese+civil+war+august+2025&format=json&action=query (Caused by NameResolutionError(\"<urllib3.connection.HTTPConnection object at 0x7596a6cd9fd0>: Failed to resolve \\'en.wikipedia.org\\' ([Errno -3] Temporary failure in name resolution)\"))'}\n",
      "intent='inquire about current situation' status='in_progress' function={'name': 'search_wikipedia', 'parameters': {'query': 'sudanese civil war august 2025'}} tool_result={'success': True, 'result': 'Error executing tool search_wikipedia: HTTPConnectionPool(host=\\'en.wikipedia.org\\', port=80): Max retries exceeded with url: /w/api.php?list=search&srprop=&srlimit=3&limit=3&srsearch=sudanese+civil+war+august+2025&format=json&action=query (Caused by NameResolutionError(\"<urllib3.connection.HTTPConnection object at 0x7596a6cda810>: Failed to resolve \\'en.wikipedia.org\\' ([Errno -3] Temporary failure in name resolution)\"))'}\n",
      "intent='information' status='in_progress' function={'name': 'search_wikipedia', 'parameters': {'query': 'sudanese civil war august 2025'}} tool_result={'success': True, 'result': 'Error executing tool search_wikipedia: HTTPConnectionPool(host=\\'en.wikipedia.org\\', port=80): Max retries exceeded with url: /w/api.php?list=search&srprop=&srlimit=3&limit=3&srsearch=sudanese+civil+war+august+2025&format=json&action=query (Caused by NameResolutionError(\"<urllib3.connection.HTTPConnection object at 0x7596a6cdb3b0>: Failed to resolve \\'en.wikipedia.org\\' ([Errno -3] Temporary failure in name resolution)\"))'}\n",
      "intent='information seeking' status='in_progress' function={'name': 'search_wikipedia', 'parameters': {'query': 'sudanese civil war august 2025'}} tool_result={'success': True, 'result': 'Error executing tool search_wikipedia: HTTPConnectionPool(host=\\'en.wikipedia.org\\', port=80): Max retries exceeded with url: /w/api.php?list=search&srprop=&srlimit=3&limit=3&srsearch=sudanese+civil+war+august+2025&format=json&action=query (Caused by NameResolutionError(\"<urllib3.connection.HTTPConnection object at 0x7596a6cda210>: Failed to resolve \\'en.wikipedia.org\\' ([Errno -3] Temporary failure in name resolution)\"))'}\n",
      "intent='answer_question' status='in_progress' function={'name': 'search_wikipedia', 'parameters': {'query': 'sudanese civil war august 2025'}} tool_result={'success': True, 'result': \"Page: Timeline of the Sudanese civil war (2025)\\nSummary: The following is a timeline of the Sudanese civil war (2023–present) in 2025.\\nThis timeline is a dynamic and fluid list, and as such may never satisfy criteria of completeness. Moreover, some events may only be fully understood and/or discovered in retrospect.\\n\\n\\n\\nPage: Sudanese civil war (2023–present)\\nSummary: A civil war began on 15 April 2023 between two rival factions of the military government of Sudan. The conflict involves the Sudanese Armed Forces (SAF), led by General Abdel Fattah al-Burhan, and the paramilitary Rapid Support Forces (RSF), commanded by Mohamed Hamdan Dagalo (commonly known as Hemedti), who also leads the broader Janjaweed coalition.  Several smaller armed groups have also taken part. Fighting has been concentrated in the capital, Khartoum, where the conflict began with large-scale battles, and in the Darfur region. Many civilians in Darfur have been reported dead as part of the Masalit massacres, which have been described as ethnic cleansing or genocide. Sudan has been described as facing the world's worst humanitarian crisis; nearly 25 million people are experiencing extreme hunger. On 7 January 2025, the United States said it had determined that the RSF and allied militias committed genocide.\\nSince gaining independence in 1956, Sudan has endured chronic instability marked by 20 coup attempts, prolonged military rule, two devastating civil wars, and the Darfur genocide. The war erupted amid tensions over the integration of the RSF into the army following the 2021 coup, starting with RSF attacks on government sites in Khartoum and other cities. The capital region was soon divided between the two factions, and al-Burhan relocated his government to Port Sudan. International efforts, including the May 2023 Jeddah Declaration, failed to stop the fighting, while various rebel groups entered the war: the SPLM–North (al-Hilu faction) attacked the SAF in the south; the Tamazuj movement joined the RSF; and the SAF gained support from factions of the Sudan Liberation Movement and the Justice and Equality Movement. By late 2023, the RSF controlled most of Darfur and advanced in Khartoum, Kordofan, and Gezira. The SAF regained momentum in early 2024, making gains in Omdurman and eventually retaking Khartoum, including the Presidential Palace and airport, by March 2025. Despite renewed negotiations, no lasting ceasefire has been reached, and the war continues with severe humanitarian consequences and regional implications.\\nFamine alone has killed an estimated 522,000 children, while the overall death toll of the war, including fatalities from violence, starvation, and disease, is even higher; thousands more remain missing or have been killed in targeted massacres, primarily attributed to the RSF and allied militias. At least 61,000 people have died in Khartoum State alone, of which 26,000 were a direct result of the violence. As of 5 February 2025, over 8.8 million were internally displaced and more than 3.5 million others had fled the country as refugees. In August 2024, the Integrated Food Security Phase Classification (IPC) Famine Review Committee (FRC) confirmed famine conditions in parts of North Darfur.\\nForeign involvement in Sudan's conflict has included arms shipments from China, Russia and Turkey. Regional support for the RSF comes from the UAE and Chad, while Egypt supports the SAF, amid regional tensions. The war has triggered a massive humanitarian crisis marked by extreme shortages of food, water, medicine, and aid access, widespread hospital closures, disease outbreaks, mass displacement, looting of humanitarian supplies, and the near-collapse of education and infrastructure, leaving over half the population in urgent need of assistance. There have been calls for more aid, legal protections for humanitarian workers, refugee support, and an end to arms supplies to the RSF, particularly by the UAE. Both the SAF and RSF have waged sophisticated di\"}\n"
     ]
    }
   ],
   "source": [
    "for step in agent.most_recent_trace:\n",
    "  print(step)"
   ]
  },
  {
   "cell_type": "code",
   "execution_count": 6,
   "id": "e945aa02",
   "metadata": {},
   "outputs": [],
   "source": [
    "# from langchain_community.vectorstores import FAISS\n",
    "# import faiss\n",
    "# from langchain_community.docstore.in_memory import InMemoryDocstore\n",
    "# from langchain_huggingface import HuggingFaceEmbeddings\n",
    "# from langchain.text_splitter import RecursiveCharacterTextSplitter\n",
    "# from langchain_core.documents import Document\n",
    "\n",
    "# EMBEDDING_MODEL = HuggingFaceEmbeddings(\n",
    "#     model_name=\"sentence-transformers/all-MiniLM-L6-v2\"\n",
    "# )\n",
    "# VECTOR_STORE = FAISS(\n",
    "#     embedding_function=EMBEDDING_MODEL,\n",
    "#     docstore=InMemoryDocstore({}),\n",
    "#     index=faiss.IndexFlatL2(384),  # provides the vectorstore the correct dimensions\n",
    "#     index_to_docstore_id={},\n",
    "# )\n",
    "# TEXT_SPLITTER = RecursiveCharacterTextSplitter(\n",
    "#     chunk_size=250,  # number of tokens per chunk\n",
    "#     chunk_overlap=25,  # overlap between chunks to maintain context\n",
    "# )\n",
    "\n",
    "\n",
    "# def retrieve_from_vectorstore(query: str, k=2) -> list[Document]:\n",
    "#     relevant_docs = VECTOR_STORE.similarity_search(query, k=k)\n",
    "#     relevant_docs = [doc.page_content for doc in relevant_docs]\n",
    "#     return relevant_docs\n",
    "  \n",
    "# def add_to_vectorstore(content: str) -> list[Document]:\n",
    "#     chunks = TEXT_SPLITTER.split_text(content)\n",
    "#     docs = [Document(page_content=chunk) for chunk in chunks]\n",
    "#     VECTOR_STORE.add_documents(docs)"
   ]
  }
 ],
 "metadata": {
  "kernelspec": {
   "display_name": "rpai",
   "language": "python",
   "name": "python3"
  },
  "language_info": {
   "codemirror_mode": {
    "name": "ipython",
    "version": 3
   },
   "file_extension": ".py",
   "mimetype": "text/x-python",
   "name": "python",
   "nbconvert_exporter": "python",
   "pygments_lexer": "ipython3",
   "version": "3.12.11"
  }
 },
 "nbformat": 4,
 "nbformat_minor": 5
}
