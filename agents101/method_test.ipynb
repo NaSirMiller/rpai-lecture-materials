{
 "cells": [
  {
   "cell_type": "code",
   "execution_count": 10,
   "id": "d5a40d85",
   "metadata": {},
   "outputs": [],
   "source": [
    "import ollama\n",
    "from wikipedia_tools import tools_available\n",
    "from wiki_agent import WikipediaAgent"
   ]
  },
  {
   "cell_type": "code",
   "execution_count": 11,
   "id": "34204259",
   "metadata": {},
   "outputs": [
    {
     "data": {
      "text/plain": [
       "[<function wikipedia_tools.save_results_to_path(content: str, file_name: str, file_directory: str = None) -> str>,\n",
       " <function wikipedia_tools.read_results_from_path(path: str = None) -> str>,\n",
       " <function wikipedia_tools.get_top_k_keywords(content: str, k: int) -> list[str]>,\n",
       " <function wikipedia_tools.search_wikipedia(query: str) -> str>]"
      ]
     },
     "execution_count": 11,
     "metadata": {},
     "output_type": "execute_result"
    }
   ],
   "source": [
    "tools_available"
   ]
  },
  {
   "cell_type": "code",
   "execution_count": 12,
   "id": "17b3f299",
   "metadata": {},
   "outputs": [],
   "source": [
    "file_save_format: str = \"\"\"Question: {user question}\\nTopic: {topic}\\nSummary: {summary of results}\"\"\" # format we expect agent to follow when saving results\n",
    "system_prompt = f\"\"\"You are an expert researcher agent that leverages wikipedia to answer questions. You are not to answer questions without using a tool or using information resulting from a tool. For example, if you are asked \"What is the capital of France?\", you should use the \"search_wikipedia\" tool to find the answer. If a user later asks, \"What is the capital of France?\", you may simply answer based off of your previous findings. In summary, query for new questions, for redundant questions, use your previous findings. \n",
    "\n",
    "Tools:\n",
    "You have access to these tools\n",
    "1. search_wikipedia(query: str)  \n",
    "  - Search Wikipedia for a given query and return the summary text.\n",
    "2. save_results_to_path(content: str, file_name: str, file_directory: str)  \n",
    "  - Save text to a file at the specified directory.\n",
    "3. get_top_k_keywords(content: str, k: int)  \n",
    "  - Extract the k most frequent keywords from the content.\n",
    "4. read_results_from_path(path: str)\n",
    "  - reads the content of a file at a given path.\n",
    "\n",
    "\n",
    "Output guidelines:\n",
    "You must always respond in the following JSON format:\n",
    "{{“intent”:…, “status”: ..., “function”: {{ “name”:…, “parameters”:...}}}}\n",
    "- The \"intent\" field should be a short description of what you are trying to do.\n",
    "- The \"status\" field should be one of the following: \"in_progress\", \"done\", or \"request_human_approval\".\n",
    "  - \"in_progress\" means you are still working on the task and will need to call another tool.\n",
    "  - \"done\" means you have completed the task and have all the information you need to answer the user's question.\n",
    "  - \"request_human_approval\" means you need human approval before proceeding.\n",
    "- The \"function\" field should contain the name of the tool being called and its parameters.\n",
    "  - The parameters should be a dictionary containing the necessary arguments for the tool. For example, \"parameters\": {{\"query\": \"What is the capital of France?\"}}.\n",
    "\n",
    "Do not include any other text outside of the JSON!\n",
    "- Always respond with valid JSON using standard double quotes \".\n",
    "- Do not use “ or ' for quotes.\n",
    "\n",
    "File saving format:\n",
    "For any requests that require saving the results the format should be as followed:\n",
    "{file_save_format}.\n",
    "- If the user does not specify a specific file name, you must name the file with the convention wiki_findings_i.txt\"\"\""
   ]
  },
  {
   "cell_type": "code",
   "execution_count": 13,
   "id": "6e7207e6",
   "metadata": {},
   "outputs": [],
   "source": [
    "messages= [{'role': 'system', 'content': system_prompt},{'role': 'user', 'content': 'What is the status of the Sudanese Civil War in August 2025?'}]\n",
    "response = ollama.chat(model=\"llama3.1\", messages=messages)"
   ]
  },
  {
   "cell_type": "code",
   "execution_count": 14,
   "id": "8d59075f",
   "metadata": {},
   "outputs": [
    {
     "data": {
      "text/plain": [
       "ChatResponse(model='llama3.1', created_at='2025-09-05T02:57:13.404386924Z', done=True, done_reason='stop', total_duration=10081528585, load_duration=144121225, prompt_eval_count=544, prompt_eval_duration=206410059, eval_count=55, eval_duration=9723389049, message=Message(role='assistant', content='{\"intent\": \"Find information on the Sudanese Civil War\", \\n\"status\": \"in_progress\", \\n\"function\": {\"name\": \"search_wikipedia\", \\n\"parameters\": {\"query\": \"Sudanese Civil War status August 2025\"}}}', thinking=None, images=None, tool_name=None, tool_calls=None))"
      ]
     },
     "execution_count": 14,
     "metadata": {},
     "output_type": "execute_result"
    }
   ],
   "source": [
    "response"
   ]
  },
  {
   "cell_type": "code",
   "execution_count": 15,
   "id": "373aa62a",
   "metadata": {},
   "outputs": [],
   "source": [
    "llm_response = response.message.content"
   ]
  },
  {
   "cell_type": "code",
   "execution_count": 16,
   "id": "b79fac32",
   "metadata": {},
   "outputs": [
    {
     "data": {
      "text/plain": [
       "'{\"intent\": \"Find information on the Sudanese Civil War\", \\n\"status\": \"in_progress\", \\n\"function\": {\"name\": \"search_wikipedia\", \\n\"parameters\": {\"query\": \"Sudanese Civil War status August 2025\"}}}'"
      ]
     },
     "execution_count": 16,
     "metadata": {},
     "output_type": "execute_result"
    }
   ],
   "source": [
    "llm_response"
   ]
  },
  {
   "cell_type": "code",
   "execution_count": 17,
   "id": "53ddd498",
   "metadata": {},
   "outputs": [],
   "source": [
    "agent = WikipediaAgent(\n",
    "  model_name=\"llama3.1\",\n",
    "  tools=tools_available,\n",
    "  system_prompt=system_prompt,\n",
    ")"
   ]
  },
  {
   "cell_type": "code",
   "execution_count": 18,
   "id": "dbf3724d",
   "metadata": {},
   "outputs": [
    {
     "data": {
      "text/plain": [
       "{'intent': 'Find information on the Sudanese Civil War',\n",
       " 'status': 'in_progress',\n",
       " 'function': {'name': 'search_wikipedia',\n",
       "  'parameters': {'query': 'Sudanese Civil War status August 2025'}}}"
      ]
     },
     "execution_count": 18,
     "metadata": {},
     "output_type": "execute_result"
    }
   ],
   "source": [
    "agent.parse_agent_response(response=llm_response)"
   ]
  }
 ],
 "metadata": {
  "kernelspec": {
   "display_name": "rpai",
   "language": "python",
   "name": "python3"
  },
  "language_info": {
   "codemirror_mode": {
    "name": "ipython",
    "version": 3
   },
   "file_extension": ".py",
   "mimetype": "text/x-python",
   "name": "python",
   "nbconvert_exporter": "python",
   "pygments_lexer": "ipython3",
   "version": "3.12.11"
  }
 },
 "nbformat": 4,
 "nbformat_minor": 5
}
