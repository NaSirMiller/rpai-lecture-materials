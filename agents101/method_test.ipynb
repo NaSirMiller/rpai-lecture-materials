{
 "cells": [
  {
   "cell_type": "code",
   "execution_count": 1,
   "id": "2d16b7a8",
   "metadata": {},
   "outputs": [],
   "source": [
    "from wikipedia_tools import tools_mapping\n",
    "from wiki_agent import WikipediaAgent"
   ]
  },
  {
   "cell_type": "code",
   "execution_count": null,
   "id": "17b3f299",
   "metadata": {},
   "outputs": [],
   "source": [
    "file_save_format: str = \"\"\"\n",
    "Question: {user_question}\n",
    "Topic: {topic}\n",
    "Summary: {summary}\n",
    "\"\"\"  # format we expect agent to follow when saving results\n",
    "\n",
    "system_prompt = f\"\"\"You are an expert researcher agent that leverages Wikipedia to answer questions. \n",
    "You are not to answer questions without using a tool or using information resulting from a tool. \n",
    "\n",
    "Tools:\n",
    "You have access to these tools:\n",
    "1. search_wikipedia(query: str)  \n",
    "  - Always provide a non-empty query string.\n",
    "\n",
    "2. save_results_to_path(content: str, file_name: str, file_directory: str)  \n",
    "  - Always provide non-empty content and a valid file_name.\n",
    "    - Content must be the summary you generated.\n",
    "  - If no file_name is given, use \"summary.txt\".\n",
    "  - If no file_directory is given, use \".\" (the current working directory).\n",
    "  - Never output empty strings for parameters.\n",
    "  - The **content must always follow this format**:  \n",
    "    {file_save_format}  \n",
    "    - {{user_question}} is the original user query.\n",
    "    - {{topic}} is the main subject extracted (e.g., \"Sudanese Civil War\").\n",
    "    - {{summary}} is the most recent findings or research results (never empty).  \n",
    "\n",
    "3. get_top_k_keywords(content: str, k: int)  \n",
    "  - Always provide non-empty content and a valid integer k.\n",
    "\n",
    "4. read_results_from_path(path: str)  \n",
    "  - Always provide a valid non-empty file path.\n",
    "\n",
    "Important:\n",
    "- Do NOT output empty strings (\"\") for any parameter.\n",
    "- You must provide the keyword arguments in the parameters json, i.e. parameters={{\"query\":\"I am asking a question.\"}}\n",
    "\n",
    "Output guidelines:\n",
    "You must always respond in the following JSON format:\n",
    "{{\"intent\": ..., \"status\": ..., \"function\": {{\"name\": ..., \"parameters\": ...}}}}\n",
    "\n",
    "- \"status\" is \"in_progress\" if another tool call is required, otherwise \"done\".\n",
    "- Do not omit any field.\n",
    "\n",
    "Do not include any other text outside of the JSON.\n",
    "Always respond with valid JSON using standard double quotes \".\n",
    "\"\"\"\n"
   ]
  },
  {
   "cell_type": "code",
   "execution_count": 3,
   "id": "53ddd498",
   "metadata": {},
   "outputs": [],
   "source": [
    "agent = WikipediaAgent(\n",
    "  model_name=\"llama3.1\",\n",
    "  tools=tools_mapping,\n",
    "  system_prompt=system_prompt,\n",
    ")"
   ]
  },
  {
   "cell_type": "code",
   "execution_count": 4,
   "id": "3773dfb0",
   "metadata": {},
   "outputs": [
    {
     "name": "stdout",
     "output_type": "stream",
     "text": [
      "Step 1: intent='information' status='in_progress' function={'name': 'search_wikipedia', 'parameters': {'query': 'sudanese civil war current situation august 2025'}} tool_result=None\n",
      "Step 7: intent='search_wikipedia' status='done' function={'name': 'search_wikipedia', 'parameters': {'query': 'sudanese civil war current situation august 2025'}} tool_result=None\n"
     ]
    }
   ],
   "source": [
    "summary = agent.run(query=\"What is the status of the Sudanese Civil War in August 2025?\")"
   ]
  },
  {
   "cell_type": "code",
   "execution_count": 5,
   "id": "e75e4a7e",
   "metadata": {},
   "outputs": [
    {
     "data": {
      "text/plain": [
       "'The current situation in the Sudanese civil war as of August 2025 is that the conflict continues with no lasting ceasefire reached despite renewed negotiations. The Rapid Support Forces (RSF) control most of Darfur, while the Sudanese Armed Forces (SAF) regained momentum in early 2024 and eventually retaken Khartoum by March 2025.'"
      ]
     },
     "execution_count": 5,
     "metadata": {},
     "output_type": "execute_result"
    }
   ],
   "source": [
    "summary"
   ]
  },
  {
   "cell_type": "code",
   "execution_count": 6,
   "id": "35f416a2",
   "metadata": {},
   "outputs": [
    {
     "name": "stdout",
     "output_type": "stream",
     "text": [
      "intent='information' status='in_progress' function={'name': 'search_wikipedia', 'parameters': {'query': 'sudanese civil war current situation august 2025'}} tool_result={'success': True, 'result': \"Page: Sudanese civil war (2023–present)\\nSummary: A civil war began on 15 April 2023 between two rival factions of the military government of Sudan. The conflict involves the Sudanese Armed Forces (SAF), led by General Abdel Fattah al-Burhan, and the paramilitary Rapid Support Forces (RSF), commanded by Mohamed Hamdan Dagalo (commonly known as Hemedti), who also leads the broader Janjaweed coalition.  Several smaller armed groups have also taken part. Fighting has been concentrated in the capital, Khartoum, where the conflict began with large-scale battles, and in the Darfur region. Many civilians in Darfur have been reported dead as part of the Masalit massacres, which have been described as ethnic cleansing or genocide. Sudan has been described as facing the world's worst humanitarian crisis; nearly 25 million people are experiencing extreme hunger. On 7 January 2025, the United States said it had determined that the RSF and allied militias committed genocide.\\nSince gaining independence in 1956, Sudan has endured chronic instability marked by 20 coup attempts, prolonged military rule, two devastating civil wars, and the Darfur genocide. The war erupted amid tensions over the integration of the RSF into the army following the 2021 coup, starting with RSF attacks on government sites in Khartoum and other cities. The capital region was soon divided between the two factions, and al-Burhan relocated his government to Port Sudan. International efforts, including the May 2023 Jeddah Declaration, failed to stop the fighting, while various rebel groups entered the war: the SPLM–North (al-Hilu faction) attacked the SAF in the south; the Tamazuj movement joined the RSF; and the SAF gained support from factions of the Sudan Liberation Movement and the Justice and Equality Movement. By late 2023, the RSF controlled most of Darfur and advanced in Khartoum, Kordofan, and Gezira. The SAF regained momentum in early 2024, making gains in Omdurman and eventually retaking Khartoum, including the Presidential Palace and airport, by March 2025. Despite renewed negotiations, no lasting ceasefire has been reached, and the war continues with severe humanitarian consequences and regional implications.\\nFamine alone has killed an estimated 522,000 children, while the overall death toll of the war, including fatalities from violence, starvation, and disease, is even higher; thousands more remain missing or have been killed in targeted massacres, primarily attributed to the RSF and allied militias. At least 61,000 people have died in Khartoum State alone, of which 26,000 were a direct result of the violence. As of 5 February 2025, over 8.8 million were internally displaced and more than 3.5 million others had fled the country as refugees. In August 2024, the Integrated Food Security Phase Classification (IPC) Famine Review Committee (FRC) confirmed famine conditions in parts of North Darfur.\\nForeign involvement in Sudan's conflict has included arms shipments from China, Russia and Turkey. Regional support for the RSF comes from the UAE and Chad, while Egypt supports the SAF, amid regional tensions. The war has triggered a massive humanitarian crisis marked by extreme shortages of food, water, medicine, and aid access, widespread hospital closures, disease outbreaks, mass displacement, looting of humanitarian supplies, and the near-collapse of education and infrastructure, leaving over half the population in urgent need of assistance. There have been calls for more aid, legal protections for humanitarian workers, refugee support, and an end to arms supplies to the RSF, particularly by the UAE. Both the SAF and RSF have waged sophisticated disinformation campaigns using social media, fake footage, and AI-generated content to manipulate public perception, discredit opponents, and influence international opinion. In response to the conflict, the United States, United Kingdom, Canada, and the European Union imposed sanctions on individuals, companies, and enti\"}\n",
      "intent='search_wikipedia' status='done' function={'name': 'search_wikipedia', 'parameters': {'query': 'sudanese civil war current situation august 2025'}} tool_result={'success': True, 'result': \"Page: Sudanese civil war (2023–present)\\nSummary: A civil war began on 15 April 2023 between two rival factions of the military government of Sudan. The conflict involves the Sudanese Armed Forces (SAF), led by General Abdel Fattah al-Burhan, and the paramilitary Rapid Support Forces (RSF), commanded by Mohamed Hamdan Dagalo (commonly known as Hemedti), who also leads the broader Janjaweed coalition.  Several smaller armed groups have also taken part. Fighting has been concentrated in the capital, Khartoum, where the conflict began with large-scale battles, and in the Darfur region. Many civilians in Darfur have been reported dead as part of the Masalit massacres, which have been described as ethnic cleansing or genocide. Sudan has been described as facing the world's worst humanitarian crisis; nearly 25 million people are experiencing extreme hunger. On 7 January 2025, the United States said it had determined that the RSF and allied militias committed genocide.\\nSince gaining independence in 1956, Sudan has endured chronic instability marked by 20 coup attempts, prolonged military rule, two devastating civil wars, and the Darfur genocide. The war erupted amid tensions over the integration of the RSF into the army following the 2021 coup, starting with RSF attacks on government sites in Khartoum and other cities. The capital region was soon divided between the two factions, and al-Burhan relocated his government to Port Sudan. International efforts, including the May 2023 Jeddah Declaration, failed to stop the fighting, while various rebel groups entered the war: the SPLM–North (al-Hilu faction) attacked the SAF in the south; the Tamazuj movement joined the RSF; and the SAF gained support from factions of the Sudan Liberation Movement and the Justice and Equality Movement. By late 2023, the RSF controlled most of Darfur and advanced in Khartoum, Kordofan, and Gezira. The SAF regained momentum in early 2024, making gains in Omdurman and eventually retaking Khartoum, including the Presidential Palace and airport, by March 2025. Despite renewed negotiations, no lasting ceasefire has been reached, and the war continues with severe humanitarian consequences and regional implications.\\nFamine alone has killed an estimated 522,000 children, while the overall death toll of the war, including fatalities from violence, starvation, and disease, is even higher; thousands more remain missing or have been killed in targeted massacres, primarily attributed to the RSF and allied militias. At least 61,000 people have died in Khartoum State alone, of which 26,000 were a direct result of the violence. As of 5 February 2025, over 8.8 million were internally displaced and more than 3.5 million others had fled the country as refugees. In August 2024, the Integrated Food Security Phase Classification (IPC) Famine Review Committee (FRC) confirmed famine conditions in parts of North Darfur.\\nForeign involvement in Sudan's conflict has included arms shipments from China, Russia and Turkey. Regional support for the RSF comes from the UAE and Chad, while Egypt supports the SAF, amid regional tensions. The war has triggered a massive humanitarian crisis marked by extreme shortages of food, water, medicine, and aid access, widespread hospital closures, disease outbreaks, mass displacement, looting of humanitarian supplies, and the near-collapse of education and infrastructure, leaving over half the population in urgent need of assistance. There have been calls for more aid, legal protections for humanitarian workers, refugee support, and an end to arms supplies to the RSF, particularly by the UAE. Both the SAF and RSF have waged sophisticated disinformation campaigns using social media, fake footage, and AI-generated content to manipulate public perception, discredit opponents, and influence international opinion. In response to the conflict, the United States, United Kingdom, Canada, and the European Union imposed sanctions on individuals, companies, and enti\"}\n"
     ]
    }
   ],
   "source": [
    "for step in agent.most_recent_trace:\n",
    "    print(step)"
   ]
  },
  {
   "cell_type": "code",
   "execution_count": 7,
   "id": "81dc4a83",
   "metadata": {},
   "outputs": [
    {
     "name": "stdout",
     "output_type": "stream",
     "text": [
      "Step 1: intent='save_results' status='done' function={'name': 'save_results_to_path', 'parameters': {'content': '', 'file_name': '', 'file_directory': ''}} tool_result=None\n"
     ]
    }
   ],
   "source": [
    "save_summary = agent.run(query=\"Can you save your findings to a text file in the results directory?\")"
   ]
  },
  {
   "cell_type": "code",
   "execution_count": 8,
   "id": "40439d49",
   "metadata": {},
   "outputs": [
    {
     "data": {
      "text/plain": [
       "'You need to specify a file name when saving the results. The conflict in Sudan continues with no lasting ceasefire reached despite negotiations.'"
      ]
     },
     "execution_count": 8,
     "metadata": {},
     "output_type": "execute_result"
    }
   ],
   "source": [
    "save_summary"
   ]
  },
  {
   "cell_type": "code",
   "execution_count": 9,
   "id": "4e26279d",
   "metadata": {},
   "outputs": [
    {
     "name": "stdout",
     "output_type": "stream",
     "text": [
      "intent='save_results' status='done' function={'name': 'save_results_to_path', 'parameters': {'content': 'The current situation in the Sudanese civil war as of August 2025 is that the conflict continues with no lasting ceasefire reached despite renewed negotiations. The Rapid Support Forces (RSF) control most of Darfur, while the Sudanese Armed Forces (SAF) regained momentum in early 2024 and eventually retaken Khartoum by March 2025.', 'file_name': '', 'file_directory': ''}} tool_result={'success': False, 'result': \"[Errno 2] No such file or directory: ''\"}\n"
     ]
    }
   ],
   "source": [
    "for step in agent.most_recent_trace:\n",
    "    print(step)"
   ]
  },
  {
   "cell_type": "code",
   "execution_count": 10,
   "id": "e6451eeb",
   "metadata": {},
   "outputs": [
    {
     "name": "stdout",
     "output_type": "stream",
     "text": [
      "Step 4: intent='save_sudan_summary' status='done' function={'name': 'save_results_to_path', 'parameters': {'content': \"question: sudanese civil war\\ntopic: sudanese civil war\\nsummary: the second sudanese civil war (1983–2005) was a conflict in the sudan that began as a mutiny of the sudan people's liberation army (spla) among the non-arab, african population of south sudan.\\n\", 'file_name': 'wiki_findings_1.txt', 'file_directory': './results'}} tool_result=None\n",
      "File saved successfully at ./results/wiki_findings_1.txt.\n"
     ]
    }
   ],
   "source": [
    "sudan_summary = agent.run(query=\"Save your sudan summary to ./results/sudan_summary.txt\")"
   ]
  },
  {
   "cell_type": "code",
   "execution_count": 11,
   "id": "613f35df",
   "metadata": {},
   "outputs": [
    {
     "name": "stdout",
     "output_type": "stream",
     "text": [
      "Step 1: intent='read_file' status='in_progress' function={'name': 'read_results_from_path', 'parameters': {'path': './random_txt.txt'}} tool_result=None\n",
      "File read successfully.\n",
      "Step 3: intent='read results from file' status='done' function={'name': 'read_results_from_path', 'parameters': {'path': './random_txt.txt'}} tool_result=None\n",
      "File read successfully.\n"
     ]
    }
   ],
   "source": [
    "content = agent.run(query=\"Read the contents of ./random_txt.txt and summarize it.\")"
   ]
  },
  {
   "cell_type": "code",
   "execution_count": 12,
   "id": "3b301cd2",
   "metadata": {},
   "outputs": [
    {
     "data": {
      "text/plain": [
       "\"The content of the file './random_txt.txt' is a passage about Lorem Ipsum's origins and history.\""
      ]
     },
     "execution_count": 12,
     "metadata": {},
     "output_type": "execute_result"
    }
   ],
   "source": [
    "content"
   ]
  },
  {
   "cell_type": "code",
   "execution_count": 13,
   "id": "bd7ce289",
   "metadata": {},
   "outputs": [
    {
     "name": "stdout",
     "output_type": "stream",
     "text": [
      "Step 1: intent='keyword extraction' status='done' function={'name': 'get_top_k_keywords', 'parameters': {'content': 'read_results_from_path', 'k': '5'}} tool_result=None\n"
     ]
    }
   ],
   "source": [
    "keywords = agent.run(query=\"Extract the top 5 keywords from the contents of ./random_txt.txt.\")"
   ]
  },
  {
   "cell_type": "code",
   "execution_count": 14,
   "id": "fd4f35fc",
   "metadata": {},
   "outputs": [
    {
     "data": {
      "text/plain": [
       "\"The tool call failed due to an invalid input type for the 'k' parameter. It requires a numeric value.\""
      ]
     },
     "execution_count": 14,
     "metadata": {},
     "output_type": "execute_result"
    }
   ],
   "source": [
    "keywords"
   ]
  }
 ],
 "metadata": {
  "kernelspec": {
   "display_name": "rpai",
   "language": "python",
   "name": "python3"
  },
  "language_info": {
   "codemirror_mode": {
    "name": "ipython",
    "version": 3
   },
   "file_extension": ".py",
   "mimetype": "text/x-python",
   "name": "python",
   "nbconvert_exporter": "python",
   "pygments_lexer": "ipython3",
   "version": "3.12.11"
  }
 },
 "nbformat": 4,
 "nbformat_minor": 5
}
