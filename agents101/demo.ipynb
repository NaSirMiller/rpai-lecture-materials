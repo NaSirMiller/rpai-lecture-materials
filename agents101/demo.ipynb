{
 "cells": [
  {
   "cell_type": "markdown",
   "id": "19526d07",
   "metadata": {},
   "source": [
    "## Imports"
   ]
  },
  {
   "cell_type": "code",
   "execution_count": 6,
   "id": "47a1c692",
   "metadata": {},
   "outputs": [],
   "source": [
    "from langchain_community.vectorstores import FAISS\n",
    "import faiss\n",
    "from langchain_community.docstore.in_memory import InMemoryDocstore\n",
    "from langchain_huggingface import HuggingFaceEmbeddings\n",
    "from langchain.text_splitter import RecursiveCharacterTextSplitter\n",
    "from langchain_core.documents import Document\n",
    "from wikipedia_tools import tools_mapping, read_results_from_path\n",
    "from wiki_agent import WikipediaAgent"
   ]
  },
  {
   "cell_type": "markdown",
   "id": "9bfbf611",
   "metadata": {},
   "source": [
    "## Environment Initialization"
   ]
  },
  {
   "cell_type": "code",
   "execution_count": 3,
   "id": "cabf6c42",
   "metadata": {},
   "outputs": [],
   "source": [
    "file_save_format: str = \"\"\"\n",
    "Question: {user_question}\n",
    "Topic: {topic}\n",
    "Summary: {summary}\n",
    "\"\"\"  # format we expect agent to follow when saving results\n",
    "\n",
    "system_prompt = f\"\"\"You are an expert researcher agent that leverages Wikipedia to answer questions. \n",
    "You are not to answer questions without using a tool or using information resulting from a tool. \n",
    "\n",
    "Tools:\n",
    "You have access to these tools:\n",
    "1. search_wikipedia(query: str)  \n",
    "  - Always provide a non-empty query string.\n",
    "\n",
    "2. save_results_to_path(content: str, file_name: str, file_directory: str)  \n",
    "  - Always provide non-empty content and a valid file_name.\n",
    "    - Content must be the summary you generated.\n",
    "  - If no file_name is given, use \"summary.txt\".\n",
    "  - If no file_directory is given, use \".\" (the current working directory).\n",
    "  - Never output empty strings for parameters.\n",
    "  - The **content must always follow this format**:  \n",
    "    {file_save_format}  \n",
    "    - {{user_question}} is the original user query.\n",
    "    - {{topic}} is the main subject extracted (e.g., \"Sudanese Civil War\").\n",
    "    - {{summary}} is the most recent findings or research results (never empty).  \n",
    "\n",
    "3. get_top_k_keywords(content: str, k: int)  \n",
    "  - Always provide non-empty content and a valid integer k.\n",
    "\n",
    "4. read_results_from_path(path: str)  \n",
    "  - Always provide a valid non-empty file path.\n",
    "\n",
    "Important:\n",
    "- Do NOT output empty strings (\"\") for any parameter.\n",
    "- You must provide the keyword arguments in the parameters json, i.e. parameters={{\"query\":\"I am asking a question.\"}}\n",
    "\n",
    "Output guidelines:\n",
    "You must always respond in the following JSON format:\n",
    "{{\"intent\": ..., \"status\": ..., \"function\": {{\"name\": ..., \"parameters\": ...}}}}\n",
    "\n",
    "- \"status\" is \"in_progress\" if another tool call is required, otherwise \"done\".\n",
    "- Do not omit any field.\n",
    "\n",
    "Do not include any other text outside of the JSON.\n",
    "Always respond with valid JSON using standard double quotes \".\n",
    "\"\"\"\n",
    "\n",
    "\n",
    "questions: list[str] = [\n",
    "  \"What is the status of the Sudanese Civil War in August 2025?\",\n",
    "  \"Save your sudan summary to ./results/sudan_summary.txt\",\n",
    "  \"Extract the top 5 keywords from the contents of ./results/sudan_summary.txt\",\n",
    "  \"Read the contents of ./random_txt.txt and summarize it.\"\n",
    "]"
   ]
  },
  {
   "cell_type": "code",
   "execution_count": 4,
   "id": "ef2e281f",
   "metadata": {},
   "outputs": [],
   "source": [
    "agent = WikipediaAgent(\n",
    "  model_name=\"llama3.1\",\n",
    "  tools=tools_mapping,\n",
    "  system_prompt=system_prompt,\n",
    ")"
   ]
  },
  {
   "cell_type": "markdown",
   "id": "95f2fc9d",
   "metadata": {},
   "source": [
    "### Minimal agent Example"
   ]
  },
  {
   "cell_type": "code",
   "execution_count": 5,
   "id": "8bf8ff9b",
   "metadata": {},
   "outputs": [
    {
     "name": "stdout",
     "output_type": "stream",
     "text": [
      "Step 1: intent='information_request' status='in_progress' function={'name': 'search_wikipedia', 'parameters': {'query': 'sudanese civil war current events august 2025'}} tool_result=None\n",
      "Step 5: intent='inform' status='done' function={'name': 'search_wikipedia', 'parameters': {'query': 'sudanese civil war current events august 2025'}} tool_result=None\n"
     ]
    }
   ],
   "source": [
    "sudan_summary = agent.run(query=questions[0])"
   ]
  },
  {
   "cell_type": "code",
   "execution_count": 5,
   "id": "4301b5e8",
   "metadata": {},
   "outputs": [
    {
     "data": {
      "text/plain": [
       "'The current situation in the Sudanese civil war is a ongoing conflict between two rival factions of the military government of Sudan, with severe humanitarian consequences and regional implications. The conflict began on 15 April 2023 and involves the Sudanese Armed Forces (SAF) and the paramilitary Rapid Support Forces (RSF), with fighting concentrated in the capital Khartoum and Darfur region. As of February 2025, over 8.8 million people have been internally displaced, and more than 3.5 million others have fled the country as refugees. The conflict has resulted in an estimated 522,000 child deaths from famine alone, with thousands more missing or killed in targeted massacres.'"
      ]
     },
     "execution_count": 5,
     "metadata": {},
     "output_type": "execute_result"
    }
   ],
   "source": [
    "sudan_summary"
   ]
  },
  {
   "cell_type": "code",
   "execution_count": 6,
   "id": "4e29d1a2",
   "metadata": {},
   "outputs": [
    {
     "name": "stdout",
     "output_type": "stream",
     "text": [
      "intent='information seeking' status='in_progress' function={'name': 'search_wikipedia', 'parameters': {'query': 'sudanese civil war current situation'}} tool_result={'success': True, 'result': \"Page: First Sudanese Civil War\\nSummary: The First Sudanese Civil War (also known as the Anyanya Rebellion or Anyanya I, after the name of the rebels, a term in the Madi language which means 'snake venom') was fought from 1955 to 1972 between the northern part of Sudan and the southern Sudan region which demanded representation and more regional autonomy. The war was divided into four major stages: initial guerrilla warfare, the creation of the Anyanya insurgency, political strife within the government, and establishment of the Southern Sudan Liberation Movement. Around a million people died over the course of the nearly 17-year long war. \\nAlthough the Addis Ababa Agreement ended the war in 1972, it failed to completely dispel the tensions and addressed only some of the issues stated by southern Sudan. The breakdown of the initial appeasement later led to a reigniting of the north–south conflict during the Second Sudanese Civil War, which lasted from 1983 to 2005.\\n\\nPage: Sudanese civil war (2023–present)\\nSummary: A civil war began on 15 April 2023 between two rival factions of the military government of Sudan. The conflict involves the Sudanese Armed Forces (SAF), led by General Abdel Fattah al-Burhan, and the paramilitary Rapid Support Forces (RSF), commanded by Mohamed Hamdan Dagalo (commonly known as Hemedti), who also leads the broader Janjaweed coalition.  Several smaller armed groups have also taken part. Fighting has been concentrated in the capital, Khartoum, where the conflict began with large-scale battles, and in the Darfur region. Many civilians in Darfur have been reported dead as part of the Masalit massacres, which have been described as ethnic cleansing or genocide. Sudan has been described as facing the world's worst humanitarian crisis; nearly 25 million people are experiencing extreme hunger. On 7 January 2025, the United States said it had determined that the RSF and allied militias committed genocide.\\nSince gaining independence in 1956, Sudan has endured chronic instability marked by 20 coup attempts, prolonged military rule, two devastating civil wars, and the Darfur genocide. The war erupted amid tensions over the integration of the RSF into the army following the 2021 coup, starting with RSF attacks on government sites in Khartoum and other cities. The capital region was soon divided between the two factions, and al-Burhan relocated his government to Port Sudan. International efforts, including the May 2023 Jeddah Declaration, failed to stop the fighting, while various rebel groups entered the war: the SPLM–North (al-Hilu faction) attacked the SAF in the south; the Tamazuj movement joined the RSF; and the SAF gained support from factions of the Sudan Liberation Movement and the Justice and Equality Movement. By late 2023, the RSF controlled most of Darfur and advanced in Khartoum, Kordofan, and Gezira. The SAF regained momentum in early 2024, making gains in Omdurman and eventually retaking Khartoum, including the Presidential Palace and airport, by March 2025. Despite renewed negotiations, no lasting ceasefire has been reached, and the war continues with severe humanitarian consequences and regional implications.\\nFamine alone has killed an estimated 522,000 children, while the overall death toll of the war, including fatalities from violence, starvation, and disease, is even higher; thousands more remain missing or have been killed in targeted massacres, primarily attributed to the RSF and allied militias. At least 61,000 people have died in Khartoum State alone, of which 26,000 were a direct result of the violence. As of 5 February 2025, over 8.8 million were internally displaced and more than 3.5 million others had fled the country as refugees. In August 2024, the Integrated Food Security Phase Classification (IPC) Famine Review Committee (FRC) confirmed famine conditions in parts of North Darfur.\\nForeign involvement in Sudan's conflict has included arms shipments from China, Russia and Turkey. Region\"}\n",
      "intent='sudanese civil war' status='done' function={'name': 'search_wikipedia', 'parameters': {'query': 'sudanese civil war current situation'}} tool_result={'success': True, 'result': \"Page: First Sudanese Civil War\\nSummary: The First Sudanese Civil War (also known as the Anyanya Rebellion or Anyanya I, after the name of the rebels, a term in the Madi language which means 'snake venom') was fought from 1955 to 1972 between the northern part of Sudan and the southern Sudan region which demanded representation and more regional autonomy. The war was divided into four major stages: initial guerrilla warfare, the creation of the Anyanya insurgency, political strife within the government, and establishment of the Southern Sudan Liberation Movement. Around a million people died over the course of the nearly 17-year long war. \\nAlthough the Addis Ababa Agreement ended the war in 1972, it failed to completely dispel the tensions and addressed only some of the issues stated by southern Sudan. The breakdown of the initial appeasement later led to a reigniting of the north–south conflict during the Second Sudanese Civil War, which lasted from 1983 to 2005.\\n\\nPage: Sudanese civil war (2023–present)\\nSummary: A civil war began on 15 April 2023 between two rival factions of the military government of Sudan. The conflict involves the Sudanese Armed Forces (SAF), led by General Abdel Fattah al-Burhan, and the paramilitary Rapid Support Forces (RSF), commanded by Mohamed Hamdan Dagalo (commonly known as Hemedti), who also leads the broader Janjaweed coalition.  Several smaller armed groups have also taken part. Fighting has been concentrated in the capital, Khartoum, where the conflict began with large-scale battles, and in the Darfur region. Many civilians in Darfur have been reported dead as part of the Masalit massacres, which have been described as ethnic cleansing or genocide. Sudan has been described as facing the world's worst humanitarian crisis; nearly 25 million people are experiencing extreme hunger. On 7 January 2025, the United States said it had determined that the RSF and allied militias committed genocide.\\nSince gaining independence in 1956, Sudan has endured chronic instability marked by 20 coup attempts, prolonged military rule, two devastating civil wars, and the Darfur genocide. The war erupted amid tensions over the integration of the RSF into the army following the 2021 coup, starting with RSF attacks on government sites in Khartoum and other cities. The capital region was soon divided between the two factions, and al-Burhan relocated his government to Port Sudan. International efforts, including the May 2023 Jeddah Declaration, failed to stop the fighting, while various rebel groups entered the war: the SPLM–North (al-Hilu faction) attacked the SAF in the south; the Tamazuj movement joined the RSF; and the SAF gained support from factions of the Sudan Liberation Movement and the Justice and Equality Movement. By late 2023, the RSF controlled most of Darfur and advanced in Khartoum, Kordofan, and Gezira. The SAF regained momentum in early 2024, making gains in Omdurman and eventually retaking Khartoum, including the Presidential Palace and airport, by March 2025. Despite renewed negotiations, no lasting ceasefire has been reached, and the war continues with severe humanitarian consequences and regional implications.\\nFamine alone has killed an estimated 522,000 children, while the overall death toll of the war, including fatalities from violence, starvation, and disease, is even higher; thousands more remain missing or have been killed in targeted massacres, primarily attributed to the RSF and allied militias. At least 61,000 people have died in Khartoum State alone, of which 26,000 were a direct result of the violence. As of 5 February 2025, over 8.8 million were internally displaced and more than 3.5 million others had fled the country as refugees. In August 2024, the Integrated Food Security Phase Classification (IPC) Famine Review Committee (FRC) confirmed famine conditions in parts of North Darfur.\\nForeign involvement in Sudan's conflict has included arms shipments from China, Russia and Turkey. Region\"}\n"
     ]
    }
   ],
   "source": [
    "for step in agent.most_recent_trace:\n",
    "    print(step)"
   ]
  },
  {
   "cell_type": "markdown",
   "id": "062a9c80",
   "metadata": {},
   "source": [
    "Following question requires handling of agent context."
   ]
  },
  {
   "cell_type": "code",
   "execution_count": 7,
   "id": "d7a14157",
   "metadata": {},
   "outputs": [
    {
     "name": "stdout",
     "output_type": "stream",
     "text": [
      "Step 2: intent='save results' status='in_progress' function={'name': 'save_results_to_path', 'parameters': {'content': '', 'file_name': 'sudan_summary.txt', 'file_directory': './results'}} tool_result=None\n",
      "File saved successfully at ./results/sudan_summary.txt.\n",
      "Step 4: intent='' status='done' function={'name': 'save_results_to_path', 'parameters': {'content': 'the current situation in the sudanese civil war is a ongoing conflict between two rival factions of the military government of sudan, with severe humanitarian consequences and regional implications. the conflict began on 15 april 2023 and involves the sudanese armed forces (saf) and the paramilitary rapid support forces (rsf), with fighting concentrated in the capital khartoum and darfur region. as of february 2025, over 8.8 million people have been internally displaced, and more than 3.5 million others have fled the country as refugees. the conflict has resulted in an estimated 522,000 child deaths from famine alone, with thousands more missing or killed in targeted massacres.', 'file_name': 'sudan_summary.txt', 'file_directory': './results'}} tool_result={}\n",
      "File saved successfully at ./results/sudan_summary.txt.\n",
      "Step 4: intent='' status='done' function={'name': 'save_results_to_path', 'parameters': {'content': 'the current situation in the sudanese civil war is a ongoing conflict between two rival factions of the military government of sudan, with severe humanitarian consequences and regional implications. the conflict began on 15 april 2023 and involves the sudanese armed forces (saf) and the paramilitary rapid support forces (rsf), with fighting concentrated in the capital khartoum and darfur region. as of february 2025, over 8.8 million people have been internally displaced, and more than 3.5 million others have fled the country as refugees. the conflict has resulted in an estimated 522,000 child deaths from famine alone, with thousands more missing or killed in targeted massacres.', 'file_name': 'sudan_summary.txt', 'file_directory': './results'}} tool_result={}\n",
      "File saved successfully at ./results/sudan_summary.txt.\n"
     ]
    }
   ],
   "source": [
    "save_results = agent.run(query=questions[1])"
   ]
  },
  {
   "cell_type": "code",
   "execution_count": 8,
   "id": "51527b79",
   "metadata": {},
   "outputs": [
    {
     "data": {
      "text/plain": [
       "'The results have been successfully saved to the specified path.'"
      ]
     },
     "execution_count": 8,
     "metadata": {},
     "output_type": "execute_result"
    }
   ],
   "source": [
    "save_results"
   ]
  },
  {
   "cell_type": "code",
   "execution_count": 9,
   "id": "32715e38",
   "metadata": {},
   "outputs": [
    {
     "name": "stdout",
     "output_type": "stream",
     "text": [
      "intent='save results' status='in_progress' function={'name': 'save_results_to_path', 'parameters': {'content': 'The current situation in the Sudanese civil war is a ongoing conflict between two rival factions of the military government of Sudan, with severe humanitarian consequences and regional implications. The conflict began on 15 April 2023 and involves the Sudanese Armed Forces (SAF) and the paramilitary Rapid Support Forces (RSF), with fighting concentrated in the capital Khartoum and Darfur region. As of February 2025, over 8.8 million people have been internally displaced, and more than 3.5 million others have fled the country as refugees. The conflict has resulted in an estimated 522,000 child deaths from famine alone, with thousands more missing or killed in targeted massacres.', 'file_name': 'sudan_summary.txt', 'file_directory': './results'}} tool_result={'success': True, 'result': 'f5c51616-2ce1-4db3-9bf1-afbe0b857a66'}\n",
      "intent='' status='done' function={'name': 'save_results_to_path', 'parameters': {'content': 'the current situation in the sudanese civil war is a ongoing conflict between two rival factions of the military government of sudan, with severe humanitarian consequences and regional implications. the conflict began on 15 april 2023 and involves the sudanese armed forces (saf) and the paramilitary rapid support forces (rsf), with fighting concentrated in the capital khartoum and darfur region. as of february 2025, over 8.8 million people have been internally displaced, and more than 3.5 million others have fled the country as refugees. the conflict has resulted in an estimated 522,000 child deaths from famine alone, with thousands more missing or killed in targeted massacres.', 'file_name': 'sudan_summary.txt', 'file_directory': './results'}} tool_result={'success': True, 'result': '3a7285d2-08f6-48b5-ad5d-8ce00680d77c'}\n"
     ]
    }
   ],
   "source": [
    "for step in agent.most_recent_trace:\n",
    "    print(step)"
   ]
  },
  {
   "cell_type": "markdown",
   "id": "5940193c",
   "metadata": {},
   "source": [
    "### Agent with long-term memory example"
   ]
  },
  {
   "cell_type": "code",
   "execution_count": null,
   "id": "582bd605",
   "metadata": {},
   "outputs": [
    {
     "name": "stderr",
     "output_type": "stream",
     "text": [
      "/home/NaSirMiller/.conda/envs/rpai/lib/python3.12/site-packages/tqdm/auto.py:21: TqdmWarning: IProgress not found. Please update jupyter and ipywidgets. See https://ipywidgets.readthedocs.io/en/stable/user_install.html\n",
      "  from .autonotebook import tqdm as notebook_tqdm\n"
     ]
    }
   ],
   "source": [
    "embedding_model = HuggingFaceEmbeddings(model_name=\"sentence-transformers/all-MiniLM-L6-v2\")\n",
    "vector_store = FAISS(embedding_function=embedding_model,\n",
    "                        docstore=InMemoryDocstore({}),\n",
    "                        index=faiss.IndexFlatL2(384), # provides the vectorstore the correct dimensions\n",
    "                        index_to_docstore_id={}\n",
    "            ) \n",
    "text_splitter = RecursiveCharacterTextSplitter(\n",
    "    chunk_size=250,       # number of tokens per chunk\n",
    "    chunk_overlap=25,      # overlap between chunks to maintain context\n",
    ")"
   ]
  },
  {
   "cell_type": "markdown",
   "id": "d65cf9ae",
   "metadata": {},
   "source": [
    "#### Creating vector store that can retrieve relavent chunks to a query"
   ]
  },
  {
   "cell_type": "code",
   "execution_count": 9,
   "id": "6d9cf371",
   "metadata": {},
   "outputs": [
    {
     "name": "stdout",
     "output_type": "stream",
     "text": [
      "File read successfully.\n"
     ]
    },
    {
     "data": {
      "text/plain": [
       "['d1e6fde5-e940-44c6-bbc4-c245affb10da',\n",
       " 'fc4a5178-9f79-4e93-a717-bea32616ac06',\n",
       " '41914d10-6f62-450b-a399-f648ef3746b0']"
      ]
     },
     "execution_count": 9,
     "metadata": {},
     "output_type": "execute_result"
    }
   ],
   "source": [
    "sudan_summary_from_doc = read_results_from_path(\"./results/sudan_summary.txt\")\n",
    "chunks = text_splitter.split_text(sudan_summary_from_doc)\n",
    "docs = [Document(page_content=chunk) for chunk in chunks]\n",
    "vector_store.add_documents(docs)"
   ]
  },
  {
   "cell_type": "markdown",
   "id": "494437b2",
   "metadata": {},
   "source": [
    "#### RAG assisted response"
   ]
  },
  {
   "cell_type": "code",
   "execution_count": 10,
   "id": "295fcf25",
   "metadata": {},
   "outputs": [],
   "source": [
    "agent2 = WikipediaAgent(\n",
    "  model_name=\"llama3.1\",\n",
    "  tools=tools_mapping,\n",
    "  system_prompt=system_prompt,\n",
    ")"
   ]
  },
  {
   "cell_type": "code",
   "execution_count": 14,
   "id": "cd1aabd6",
   "metadata": {},
   "outputs": [],
   "source": [
    "query = \"What are the main causes of the Sudanese Civil War?\"\n",
    "relevant_docs = vector_store.similarity_search(query, k=2)\n",
    "relevant_docs = [doc.page_content for doc in relevant_docs]\n",
    "query_with_docs = f\"\"\"{query}. The following are documents from previous questions: {relevant_docs}\"\"\""
   ]
  },
  {
   "cell_type": "code",
   "execution_count": 15,
   "id": "de60ff85",
   "metadata": {},
   "outputs": [
    {
     "data": {
      "text/plain": [
       "\"What are the main causes of the Sudanese Civil War?. The following are documents from previous questions: ['the current situation in the sudanese civil war is a ongoing conflict between two rival factions of the military government of sudan, with severe humanitarian consequences and regional implications. the conflict began on 15 april 2023 and involves', 'april 2023 and involves the sudanese armed forces (saf) and the paramilitary rapid support forces (rsf), with fighting concentrated in the capital khartoum and darfur region. as of february 2025, over 8.8 million people have been internally']\""
      ]
     },
     "execution_count": 15,
     "metadata": {},
     "output_type": "execute_result"
    }
   ],
   "source": [
    "query_with_docs"
   ]
  },
  {
   "cell_type": "code",
   "execution_count": null,
   "id": "086c71bc",
   "metadata": {},
   "outputs": [],
   "source": [
    "#TODO: Fix prompt to account for RAG."
   ]
  }
 ],
 "metadata": {
  "kernelspec": {
   "display_name": "rpai",
   "language": "python",
   "name": "python3"
  },
  "language_info": {
   "codemirror_mode": {
    "name": "ipython",
    "version": 3
   },
   "file_extension": ".py",
   "mimetype": "text/x-python",
   "name": "python",
   "nbconvert_exporter": "python",
   "pygments_lexer": "ipython3",
   "version": "3.12.11"
  }
 },
 "nbformat": 4,
 "nbformat_minor": 5
}
